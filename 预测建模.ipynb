{
 "cells": [
  {
   "cell_type": "markdown",
   "metadata": {},
   "source": [
    "# 课题 社零额预测 （建模部分）\n",
    "1.rnn建模 \n",
    "\n",
    "2.tcn建模\n",
    "\n",
    "3.利用分类数据建立环比增长模型"
   ]
  },
  {
   "cell_type": "code",
   "execution_count": 5,
   "metadata": {},
   "outputs": [],
   "source": [
    "#载入相关库\n",
    "from pylab import mpl\n",
    "mpl.rcParams['font.sans-serif'] = ['FangSong'] # 指定默认字体\n",
    "mpl.rcParams['axes.unicode_minus'] = False # 解决保存图像是负号'-'显示为方块的问题\n",
    "import pandas as pd\n",
    "import numpy as np\n",
    "import matplotlib.pylab as plt\n",
    "import warnings\n",
    "warnings.filterwarnings(\"ignore\")\n",
    "\n",
    "from pandas import Series, DataFrame\n",
    "import statsmodels.api as sm \n",
    "from sklearn.model_selection import train_test_split\n",
    "from sklearn.preprocessing import MinMaxScaler\n",
    "\n",
    "from keras.models import Sequential\n",
    "from keras.layers import Dense,GRU,Conv1D,Flatten\n",
    "\n",
    "from sklearn.metrics import mean_squared_error\n",
    "from math import sqrt\n",
    "from keras import backend as K"
   ]
  },
  {
   "cell_type": "code",
   "execution_count": 8,
   "metadata": {},
   "outputs": [],
   "source": [
    "'''\n",
    "准备工作\n",
    "'''\n",
    "#载入数据\n",
    "f = open('时间序列预测.csv')\n",
    "data = pd.read_csv(f, parse_dates=['time'], index_col='time')\n",
    "index = pd.date_range(start='2008-1', end='2018-7', freq='MS')\n",
    "data.index=index\n",
    "#rmse函数 （keras和时间序列通用）\n",
    "def root_mean_squared_error(y_true, y_pred):\n",
    "        return K.sqrt(K.mean(K.square(y_pred - y_true), axis=-1))\n"
   ]
  },
  {
   "cell_type": "markdown",
   "metadata": {},
   "source": [
    "# 时间序列预测 \n",
    "## 预测方式：SARIMA(1,2,1)*(0,2,1,12)\n",
    "数据：以2008到2016年数据为训练集，2017年1月到2018年7月为测试集"
   ]
  },
  {
   "cell_type": "code",
   "execution_count": 9,
   "metadata": {},
   "outputs": [],
   "source": [
    "mod = sm.tsa.statespace.SARIMAX(data[:108],\n",
    "                                order=(1, 2, 1),\n",
    "                                seasonal_order=(0, 2, 1, 12),\n",
    "                                enforce_stationarity=False,\n",
    "                                enforce_invertibility=False)\n",
    "\n",
    "results = mod.fit()\n",
    "pred = results.get_prediction(start=pd.to_datetime('2017-01-01'),end=pd.to_datetime('2018-07-01'),dynamic=False)\n",
    "pred_ci = pred.conf_int()\n",
    "\n",
    "\n",
    "#滚动预测，只利用现有数据预测下一期数据\n",
    "y_forecasted=pd.Series([])\n",
    "for i in range(108,127):\n",
    "    mod = sm.tsa.statespace.SARIMAX(data[:i],\n",
    "                                order=(1, 2, 1),\n",
    "                                seasonal_order=(0, 2, 1, 12),\n",
    "                                enforce_stationarity=False,\n",
    "                                enforce_invertibility=False)\n",
    "\n",
    "    results = mod.fit()\n",
    "    pred = results.get_forecast(step=1)\n",
    "    pred_ci = pred.conf_int()\n",
    "    tmp = pred.predicted_mean\n",
    "    y_forecasted=y_forecasted.append(tmp)\n",
    "\n",
    "\n",
    "y_sarima=y_forecasted\n",
    "y_truth = data['2017-01-01':]\n",
    "\n",
    "\n",
    "\n"
   ]
  },
  {
   "cell_type": "code",
   "execution_count": 10,
   "metadata": {},
   "outputs": [
    {
     "name": "stdout",
     "output_type": "stream",
     "text": [
      "sarima模型在测试集上的rmse：  37.605418698404854\n"
     ]
    },
    {
     "data": {
      "image/png": "[encoded data removed]",
      "text/plain": [
       "<Figure size 432x288 with 1 Axes>"
      ]
     },
     "metadata": {},
     "output_type": "display_data"
    }
   ],
   "source": [
    "# Compute the mean square error\n",
    "y_truth = data['2017-01-01':]\n",
    "rmse_sarima=np.sqrt(mean_squared_error(y_forecasted,np.array( y_truth['Total_retail_sales'])))\n",
    "print('sarima模型在测试集上的rmse： ',rmse_sarima)\n",
    "ax =y_truth.plot(label='测试集观测值')\n",
    "y_sarima.plot(ax=ax, label='测试集预测值', alpha=.7)\n",
    "ax.set_xlabel('时间')\n",
    "ax.set_ylabel('数值')\n",
    "plt.legend()\n",
    "plt.show()\n"
   ]
  },
  {
   "cell_type": "markdown",
   "metadata": {},
   "source": [
    "# 预测八月份九月份"
   ]
  },
  {
   "cell_type": "code",
   "execution_count": 11,
   "metadata": {},
   "outputs": [
    {
     "name": "stdout",
     "output_type": "stream",
     "text": [
      "八月真实值：991.5\n",
      "八月预测值\n",
      "976.2962269808227\n",
      "九月真实值：1032.1\n",
      "九月预测值：\n",
      "1058.199702569071\n"
     ]
    }
   ],
   "source": [
    "def predict_sarima(data):\n",
    "    mod = sm.tsa.statespace.SARIMAX(data,\n",
    "                                order=(1, 2, 1),\n",
    "                                seasonal_order=(0, 2, 1, 12),\n",
    "                                enforce_stationarity=False,\n",
    "                                enforce_invertibility=False)\n",
    "\n",
    "    results = mod.fit()\n",
    "    pred = results.get_forecast(step=1)\n",
    "    return pred.predicted_mean\n",
    "\n",
    "#预测八月\n",
    "print('八月真实值：991.5')\n",
    "print('八月预测值')\n",
    "predict_sarima_8=predict_sarima(data).values[0]\n",
    "print(predict_sarima_8)\n",
    "\n",
    "#预测九月\n",
    "\n",
    "data.ix['2018-08-01']=991.5\n",
    "print('九月真实值：1032.1')\n",
    "print('九月预测值：')\n",
    "predict_sarima_9=predict_sarima(data).values[0]\n",
    "print(predict_sarima_9)"
   ]
  },
  {
   "cell_type": "markdown",
   "metadata": {},
   "source": [
    "# 单变量Gru神经网络\n",
    "由于神经网络参数较多，对数值敏感，训练需要较多的数据，所以在训练集中引入2006年和2007年的数据\n",
    "网络结构为:第一层 7个神经元的GRU，无激活函数，第二层为输出层，无激活函数，迭代3000个周期，损失函数为mse"
   ]
  },
  {
   "cell_type": "code",
   "execution_count": 12,
   "metadata": {},
   "outputs": [
    {
     "name": "stdout",
     "output_type": "stream",
     "text": [
      "rmse 训练集 24.30616198748111\n",
      "rmse 测试集 34.84576645476473\n"
     ]
    }
   ],
   "source": [
    "#载入新数据 增加06和07年数据\n",
    "f = open('时间序列预测_1.csv')\n",
    "data = pd.read_csv(f, parse_dates=['time'], index_col='time')\n",
    "index = pd.date_range(start='2006-1', end='2018-7', freq='MS')\n",
    "data.index=index\n",
    "#将数据变换reshape成,12维度的x和y\n",
    "def create_dataset(dataset, look_back):\n",
    "    dataX, dataY = [], []\n",
    "    for i in range(len(dataset)-look_back):\n",
    "        a = dataset[i:(i+look_back), 0]\n",
    "        dataX.append(a)\n",
    "        dataY.append(dataset[i + look_back, 0])\n",
    "    return np.array(dataX), np.array(dataY)\n",
    "\n",
    "scaler = MinMaxScaler(feature_range=(0, 1))#归一化\n",
    "dataset = scaler.fit_transform(data)\n",
    "train_size =120\n",
    "\n",
    "\n",
    "look_back = 12\n",
    "\n",
    "\n",
    "x,y=create_dataset(dataset, look_back)\n",
    "\n",
    "X_train = np.reshape(x[:train_size], (x[:train_size].shape[0], 1, x[:train_size].shape[1]))\n",
    "X_test = np.reshape(x[train_size:], (x[train_size:].shape[0], 1, x[train_size:].shape[1]))\n",
    "y_train=y[:train_size]\n",
    "y_test=y[train_size:]\n",
    "\n",
    "from keras.models import load_model\n",
    "\n",
    "model = load_model('gru7_3000_mse.h5',custom_objects={'root_mean_squared_error': root_mean_squared_error})\n",
    "\n",
    "# make predictions\n",
    "trainPredict = model.predict(X_train)\n",
    "testPredict = model.predict(X_test)\n",
    "\n",
    "\n",
    "trainPredict = scaler.inverse_transform(trainPredict)\n",
    "trainY = scaler.inverse_transform([y_train])\n",
    "testPredict = scaler.inverse_transform(testPredict)\n",
    "testY = scaler.inverse_transform([y_test])\n",
    "\n",
    "trainScore = np.sqrt(mean_squared_error(trainY[0], trainPredict[:,0]))\n",
    "print('rmse 训练集' ,trainScore)\n",
    "testScore = np.sqrt(mean_squared_error(testY[0], testPredict[:,0]))\n",
    "print('rmse 测试集' ,testScore)\n",
    "\n",
    "y_gru7=testPredict\n",
    "\n"
   ]
  },
  {
   "cell_type": "code",
   "execution_count": 13,
   "metadata": {},
   "outputs": [
    {
     "data": {
      "image/png": "[encoded data removed]",
      "text/plain": [
       "<Figure size 576x216 with 1 Axes>"
      ]
     },
     "metadata": {},
     "output_type": "display_data"
    }
   ],
   "source": [
    "\n",
    "fig, ax = plt.subplots(1, 1, figsize = (8, 3))\n",
    "ax.plot(testPredict,label='预测值')\n",
    "ax.plot(testY.T ,label='实际值')\n",
    "ax.legend()\n",
    "plt.show()\n"
   ]
  },
  {
   "cell_type": "code",
   "execution_count": 14,
   "metadata": {},
   "outputs": [
    {
     "name": "stdout",
     "output_type": "stream",
     "text": [
      "八月真实值：991.5\n",
      "八月预测值\n",
      "998.5973\n",
      "九月真实值：1032.1\n",
      "九月预测值：\n",
      "1118.9236\n"
     ]
    }
   ],
   "source": [
    "#预测八月\n",
    "tmp=np.row_stack((dataset,scaler.transform(999)))\n",
    "tmp,_=create_dataset(tmp, look_back=12)\n",
    "print('八月真实值：991.5')\n",
    "print('八月预测值')\n",
    "y_gru_8=scaler.inverse_transform(model.predict(tmp[-1].reshape(1,1,12)))[0][0]\n",
    "print(y_gru_8)\n",
    "#预测九月\n",
    "tmp=np.row_stack((dataset,scaler.transform(991.5)))\n",
    "tmp=np.row_stack((tmp,scaler.transform(99999)))\n",
    "tmp,_=create_dataset(tmp, look_back=12)\n",
    "print('九月真实值：1032.1')\n",
    "print('九月预测值：')\n",
    "y_gru_9=scaler.inverse_transform(model.predict(tmp[-1].reshape(1,1,12)))[0][0]\n",
    "print(y_gru_9)"
   ]
  },
  {
   "cell_type": "markdown",
   "metadata": {},
   "source": [
    "# 时间卷积网络\n"
   ]
  },
  {
   "cell_type": "code",
   "execution_count": 15,
   "metadata": {},
   "outputs": [
    {
     "name": "stdout",
     "output_type": "stream",
     "text": [
      "rmse 训练集 26.267723406814056\n",
      "rmse 测试集 35.932345488100545\n"
     ]
    }
   ],
   "source": [
    "X_train = np.reshape(x[:train_size], (x[:train_size].shape[0],12,1))\n",
    "X_test = np.reshape(x[train_size:], (x[train_size:].shape[0],12,1))\n",
    "y_train=y[:train_size]\n",
    "y_test=y[train_size:]\n",
    "\n",
    "from keras.models import load_model\n",
    "\n",
    "model = load_model('tcn.h5')\n",
    "\n",
    "# make predictions\n",
    "trainPredict = model.predict(X_train)\n",
    "testPredict = model.predict(X_test)\n",
    "\n",
    "\n",
    "trainPredict = scaler.inverse_transform(trainPredict)\n",
    "trainY = scaler.inverse_transform([y_train])\n",
    "testPredict = scaler.inverse_transform(testPredict)\n",
    "testY = scaler.inverse_transform([y_test])\n",
    "\n",
    "trainScore = np.sqrt(mean_squared_error(trainY[0], trainPredict[:,0]))\n",
    "print('rmse 训练集' ,trainScore)\n",
    "testScore = np.sqrt(mean_squared_error(testY[0], testPredict[:,0]))\n",
    "print('rmse 测试集' ,testScore)\n",
    "\n",
    "y_conv1=testPredict\n"
   ]
  },
  {
   "cell_type": "code",
   "execution_count": 16,
   "metadata": {},
   "outputs": [
    {
     "name": "stdout",
     "output_type": "stream",
     "text": [
      "八月真实值：991.5\n",
      "八月预测值\n",
      "990.3329\n",
      "九月真实值：1032.1\n",
      "九月预测值：\n",
      "1120.074\n"
     ]
    }
   ],
   "source": [
    "#预测八月\n",
    "tmp=np.row_stack((dataset,scaler.transform(999)))\n",
    "tmp,_=create_dataset(tmp, look_back=12)\n",
    "print('八月真实值：991.5')\n",
    "print('八月预测值')\n",
    "y_conv1_8=scaler.inverse_transform(model.predict(tmp[-1].reshape(1,12,1)))[0][0]\n",
    "print(y_conv1_8)\n",
    "#预测九月\n",
    "tmp=np.row_stack((dataset,scaler.transform(991.5)))\n",
    "tmp=np.row_stack((tmp,scaler.transform(99999)))\n",
    "tmp,_=create_dataset(tmp, look_back=12)\n",
    "print('九月真实值：1032.1')\n",
    "print('九月预测值：')\n",
    "y_conv1_9=scaler.inverse_transform(model.predict(tmp[-1].reshape(1,12,1)))[0][0]\n",
    "print(y_conv1_9)"
   ]
  },
  {
   "cell_type": "code",
   "execution_count": 17,
   "metadata": {},
   "outputs": [
    {
     "data": {
      "image/png": "[encoded data removed]",
      "text/plain": [
       "<Figure size 576x216 with 1 Axes>"
      ]
     },
     "metadata": {},
     "output_type": "display_data"
    }
   ],
   "source": [
    "fig, ax = plt.subplots(1, 1, figsize = (8, 3))\n",
    "ax.plot(testPredict,label='预测值')\n",
    "ax.plot(testY.T ,label='实际值')\n",
    "ax.legend()\n",
    "plt.show()"
   ]
  },
  {
   "cell_type": "markdown",
   "metadata": {},
   "source": [
    "# 利用分类数据建立环比增长模型\n",
    "社零额总额分为，吃穿烧用类数据，由于每月结构变化极小，在各分类数据中，利用前12个月的分类数据建立线性回归模型，预测下一个月数据，再根据结构算出的权重汇总"
   ]
  },
  {
   "cell_type": "code",
   "execution_count": 28,
   "metadata": {},
   "outputs": [
    {
     "data": {
      "text/html": [
       "<div>\n",
       "<style scoped>\n",
       "    .dataframe tbody tr th:only-of-type {\n",
       "        vertical-align: middle;\n",
       "    }\n",
       "\n",
       "    .dataframe tbody tr th {\n",
       "        vertical-align: top;\n",
       "    }\n",
       "\n",
       "    .dataframe thead th {\n",
       "        text-align: right;\n",
       "    }\n",
       "</style>\n",
       "<table border=\"1\" class=\"dataframe\">\n",
       "  <thead>\n",
       "    <tr style=\"text-align: right;\">\n",
       "      <th></th>\n",
       "      <th>吃类商品</th>\n",
       "      <th>穿类商品</th>\n",
       "      <th>用类商品</th>\n",
       "      <th>烧类商品</th>\n",
       "    </tr>\n",
       "  </thead>\n",
       "  <tbody>\n",
       "    <tr>\n",
       "      <th>2010-02-01</th>\n",
       "      <td>0.060714</td>\n",
       "      <td>-0.108429</td>\n",
       "      <td>-0.190800</td>\n",
       "      <td>-0.195322</td>\n",
       "    </tr>\n",
       "    <tr>\n",
       "      <th>2010-03-01</th>\n",
       "      <td>-0.202073</td>\n",
       "      <td>-0.138495</td>\n",
       "      <td>0.175565</td>\n",
       "      <td>0.258150</td>\n",
       "    </tr>\n",
       "    <tr>\n",
       "      <th>2010-04-01</th>\n",
       "      <td>-0.009078</td>\n",
       "      <td>-0.028475</td>\n",
       "      <td>0.008990</td>\n",
       "      <td>0.155199</td>\n",
       "    </tr>\n",
       "    <tr>\n",
       "      <th>2010-05-01</th>\n",
       "      <td>0.051117</td>\n",
       "      <td>0.111570</td>\n",
       "      <td>0.043934</td>\n",
       "      <td>0.017154</td>\n",
       "    </tr>\n",
       "    <tr>\n",
       "      <th>2010-06-01</th>\n",
       "      <td>0.031046</td>\n",
       "      <td>-0.073507</td>\n",
       "      <td>0.007467</td>\n",
       "      <td>-0.041433</td>\n",
       "    </tr>\n",
       "  </tbody>\n",
       "</table>\n",
       "</div>"
      ],
      "text/plain": [
       "                吃类商品      穿类商品      用类商品      烧类商品\n",
       "2010-02-01  0.060714 -0.108429 -0.190800 -0.195322\n",
       "2010-03-01 -0.202073 -0.138495  0.175565  0.258150\n",
       "2010-04-01 -0.009078 -0.028475  0.008990  0.155199\n",
       "2010-05-01  0.051117  0.111570  0.043934  0.017154\n",
       "2010-06-01  0.031046 -0.073507  0.007467 -0.041433"
      ]
     },
     "execution_count": 28,
     "metadata": {},
     "output_type": "execute_result"
    }
   ],
   "source": [
    "from sklearn.linear_model import LinearRegression\n",
    "data_all=pd.read_excel('D:\\workfile\\社零额\\额外数据\\用途分类数据_环比.xlsx')\n",
    "index = pd.date_range(start='2010-2', end='2018-9', freq='MS')\n",
    "data_all.index=index\n",
    "del data_all['时间']\n",
    "data_all.columns=['吃类商品','穿类商品','用类商品','烧类商品']\n",
    "data_all.head()"
   ]
  },
  {
   "cell_type": "code",
   "execution_count": 29,
   "metadata": {},
   "outputs": [],
   "source": [
    "def create_dataset(dataset, look_back=12):\n",
    "    dataX, dataY = [], []\n",
    "    for i in range(len(dataset)-look_back):\n",
    "        a = dataset[i:(i+look_back), 0]\n",
    "        dataX.append(a)\n",
    "        dataY.append(dataset[i + look_back, 0])\n",
    "    return np.array(dataX), np.array(dataY)"
   ]
  },
  {
   "cell_type": "code",
   "execution_count": 30,
   "metadata": {},
   "outputs": [],
   "source": [
    "#以吃类商品为例  数据：以2010到2016年数据为训练集，2018年3月到2018年9月为测试集进行尝试性建模\n",
    "x_eat,y_eat=create_dataset(np.array(data_all['吃类商品']).reshape(104,1), look_back=12)\n",
    "x_eat_train=x_eat[:-6]\n",
    "y_eat_train=y_eat[:-6]\n",
    "x_eat_test=x_eat[-6:]\n",
    "y_eat_test=y_eat[-6:]"
   ]
  },
  {
   "cell_type": "code",
   "execution_count": 31,
   "metadata": {},
   "outputs": [
    {
     "data": {
      "text/plain": [
       "LinearRegression(copy_X=True, fit_intercept=True, n_jobs=1, normalize=False)"
      ]
     },
     "execution_count": 31,
     "metadata": {},
     "output_type": "execute_result"
    }
   ],
   "source": [
    "lr=LinearRegression()\n",
    "lr.fit(x_eat_train,y_eat_train)"
   ]
  },
  {
   "cell_type": "code",
   "execution_count": 32,
   "metadata": {},
   "outputs": [
    {
     "name": "stdout",
     "output_type": "stream",
     "text": [
      "至2018年9月测试集 rmse:\n",
      "0.0015242571131724922\n"
     ]
    }
   ],
   "source": [
    "from sklearn.metrics import mean_squared_error\n",
    "print('至2018年9月测试集 rmse:')\n",
    "print(mean_squared_error(lr.predict(x_eat_test),y_eat_test))"
   ]
  },
  {
   "cell_type": "code",
   "execution_count": 27,
   "metadata": {},
   "outputs": [
    {
     "name": "stdout",
     "output_type": "stream",
     "text": [
      "吃类商品\n",
      "0.0016320540656137692\n",
      "穿类商品\n",
      "0.0030567540964124796\n",
      "用类商品\n",
      "0.0028867316449611704\n",
      "烧类商品\n",
      "0.0032530980314681274\n"
     ]
    }
   ],
   "source": [
    "#吃穿用烧 （2018年7月为测试集）\n",
    "for i in ['吃类商品','穿类商品','用类商品','烧类商品']:\n",
    "    x_eat,y_eat=create_dataset(np.array(data_all[i]).reshape(104,1), look_back=12)\n",
    "    x_eat_train=x_eat[:-6]\n",
    "    y_eat_train=y_eat[:-6]\n",
    "    x_eat_test=x_eat[-6:-2]\n",
    "    y_eat_test=y_eat[-6:-2]\n",
    "    lr=LinearRegression()\n",
    "    lr.fit(x_eat_train,y_eat_train)\n",
    "    print(i)\n",
    "    print(mean_squared_error(lr.predict(x_eat_test),y_eat_test))"
   ]
  },
  {
   "cell_type": "code",
   "execution_count": 47,
   "metadata": {},
   "outputs": [],
   "source": [
    "#预测八月九月\n",
    "def lr_predict(data):\n",
    "    res=[]\n",
    "    for i in ['吃类商品','穿类商品','用类商品','烧类商品']:       \n",
    "        x_eat,y_eat=create_dataset(np.array(data[i]).reshape(data.shape[0],1), look_back=12)\n",
    "        lr=LinearRegression()\n",
    "        lr.fit(x_eat,y_eat)\n",
    "        tmp=np.array(data[i]).reshape(data.shape[0],1).copy()\n",
    "        tmp=np.row_stack((tmp,tmp[-1]))\n",
    "        tmp,_=create_dataset(tmp,look_back=12)\n",
    "        res.append(lr.predict(tmp[-1].reshape(1,12)))\n",
    "    return res\n",
    "n8_child=lr_predict(data_all[:-2])\n",
    "n9_child=lr_predict(data_all[:-1])"
   ]
  },
  {
   "cell_type": "code",
   "execution_count": 48,
   "metadata": {},
   "outputs": [
    {
     "name": "stdout",
     "output_type": "stream",
     "text": [
      "八月真实值：991.5\n",
      "九月预测值\n",
      "[938.07080458]\n",
      "九月真实值：1032.1\n",
      "[1068.62243023]\n"
     ]
    }
   ],
   "source": [
    "#八月预测\n",
    "n7_weight=[0.234255628,0.061317463,0.651243027,0.053183882]\n",
    "print('八月真实值：991.5')\n",
    "print('九月预测值')\n",
    "print((1+np.dot(n7_weight,n8_child))*966.07)\n",
    "#九月预测\n",
    "print('九月真实值：1032.1')\n",
    "n8_weight=[0.230145911,0.059351955,0.65829691,0.052205224]\n",
    "print((np.dot(n8_weight,n9_child)+1)*991.5)"
   ]
  },
  {
   "cell_type": "code",
   "execution_count": 101,
   "metadata": {},
   "outputs": [],
   "source": [
    "#由于权重变化不大，以7月份权重为依据，给出2017年1月1日到2018年7月1日的估计序列\n",
    "pred_weight=[]\n",
    "data_tmp=data.ix['2010-2-1':]\n",
    "for i in range(83,102):\n",
    "    tmp=lr_predict(data_all[:i])\n",
    "    pred_weight.append((np.dot(n7_weight,tmp)+1)*data_tmp.iloc[i,0])\n",
    "    "
   ]
  },
  {
   "cell_type": "code",
   "execution_count": 110,
   "metadata": {},
   "outputs": [
    {
     "name": "stdout",
     "output_type": "stream",
     "text": [
      "rmse 测试集 126.34670426538148\n"
     ]
    }
   ],
   "source": [
    "testScore = np.sqrt(mean_squared_error(testY[0], np.array(pred_weight)))\n",
    "print('rmse 测试集' ,testScore)"
   ]
  },
  {
   "cell_type": "code",
   "execution_count": 108,
   "metadata": {},
   "outputs": [],
   "source": [
    "pred_weight=np.array(pred_weight)"
   ]
  },
  {
   "cell_type": "code",
   "execution_count": 109,
   "metadata": {},
   "outputs": [
    {
     "data": {
      "image/png": "[encoded data removed]",
      "text/plain": [
       "<Figure size 576x216 with 1 Axes>"
      ]
     },
     "metadata": {},
     "output_type": "display_data"
    }
   ],
   "source": [
    "fig, ax = plt.subplots(1, 1, figsize = (8, 3))\n",
    "ax.plot(pred_weight,label='预测值')\n",
    "ax.plot(testY.T ,label='实际值')\n",
    "ax.legend()\n",
    "plt.show()"
   ]
  },
  {
   "cell_type": "markdown",
   "metadata": {},
   "source": [
    "# 加权平均组合\n",
    "神经网络存在过高估计的风险，而SARIMA倾向于较低的预测真实值"
   ]
  },
  {
   "cell_type": "code",
   "execution_count": 78,
   "metadata": {},
   "outputs": [
    {
     "name": "stdout",
     "output_type": "stream",
     "text": [
      "rmse 测试集 32.76465749999153\n"
     ]
    }
   ],
   "source": [
    "#测试集预测结果\n",
    "y_all=0.3*y_gru7+0.3*y_conv1+0.4*np.array(y_sarima).reshape(19,1)\n",
    "testScore = np.sqrt(mean_squared_error(y_all, y_truth))\n",
    "print('rmse 测试集' ,testScore)"
   ]
  },
  {
   "cell_type": "code",
   "execution_count": 80,
   "metadata": {},
   "outputs": [
    {
     "name": "stdout",
     "output_type": "stream",
     "text": [
      "八月真实值：991.5\n",
      "八月预测值\n",
      "987.1975435267041\n",
      "九月真实值：1032.1\n",
      "九月预测值：\n",
      "1094.9791486057534\n"
     ]
    }
   ],
   "source": [
    "#预测八月\n",
    "print('八月真实值：991.5')\n",
    "print('八月预测值')\n",
    "print(0.3*y_conv1_8+0.3*y_gru_8+0.4*predict_sarima_8)\n",
    "#预测九月\n",
    "print('九月真实值：1032.1')\n",
    "print('九月预测值：')\n",
    "print(0.3*y_conv1_9+0.3*y_gru_9+0.4*predict_sarima_9)"
   ]
  },
  {
   "cell_type": "code",
   "execution_count": null,
   "metadata": {},
   "outputs": [],
   "source": []
  }
 ],
 "metadata": {
  "kernelspec": {
   "display_name": "Python 3",
   "language": "python",
   "name": "python3"
  },
  "language_info": {
   "codemirror_mode": {
    "name": "ipython",
    "version": 3
   },
   "file_extension": ".py",
   "mimetype": "text/x-python",
   "name": "python",
   "nbconvert_exporter": "python",
   "pygments_lexer": "ipython3",
   "version": "3.6.3"
  }
 },
 "nbformat": 4,
 "nbformat_minor": 2
}
